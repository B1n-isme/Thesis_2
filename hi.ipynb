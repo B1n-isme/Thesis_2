{
 "cells": [
  {
   "cell_type": "code",
   "execution_count": 1,
   "metadata": {},
   "outputs": [],
   "source": [
    "import pandas as pd\n",
    "\n",
    "\n",
    "df = pd.read_parquet('data/final/dataset.parquet')"
   ]
  },
  {
   "cell_type": "code",
   "execution_count": 2,
   "metadata": {},
   "outputs": [
    {
     "data": {
      "text/plain": [
       "Index(['Date', 'btc_sma_5', 'btc_ema_5', 'btc_sma_14', 'btc_ema_14',\n",
       "       'btc_sma_21', 'btc_ema_21', 'btc_sma_50', 'btc_ema_50',\n",
       "       'btc_sma_14_50_diff', 'btc_ema_14_50_diff', 'btc_sma_14_50_ratio',\n",
       "       'btc_sma_14_slope', 'btc_ema_14_slope', 'btc_sma_21_slope',\n",
       "       'btc_ema_21_slope', 'btc_sma_50_slope', 'btc_ema_50_slope',\n",
       "       'btc_close_ema_21_dist', 'btc_close_ema_21_dist_norm', 'btc_rsi_14',\n",
       "       'btc_macd', 'btc_macd_signal', 'btc_macd_diff', 'btc_bb_high',\n",
       "       'btc_bb_low', 'btc_bb_mid', 'btc_bb_width', 'btc_atr_14',\n",
       "       'btc_volatility_index', 'btc_trading_volume',\n",
       "       'active_addresses_blockchain', 'hash_rate_blockchain',\n",
       "       'miner_revenue_blockchain', 'difficulty_blockchain',\n",
       "       'estimated_transaction_volume_usd_blockchain', 'PiCycle_cbbi',\n",
       "       'RUPL_cbbi', 'RHODL_cbbi', 'Puell_cbbi', '2YMA_cbbi', 'Trolololo_cbbi',\n",
       "       'MVRV_cbbi', 'ReserveRisk_cbbi', 'Woobull_cbbi', 'Confidence_cbbi',\n",
       "       'Fear Greed', 'positive_sentiment', 'negative_sentiment',\n",
       "       'bullish_sentiment', 'bearish_sentiment', 'risk_uncertainty_sentiment',\n",
       "       'problem_malicious_sentiment', 'active_trading_sentiment',\n",
       "       'long_term_investment_sentiment', 'market_narrative_sentiment',\n",
       "       'core_technology_sentiment', 'development_ecosystem_sentiment',\n",
       "       'news_events_sentiment', 'regulations_sentiment',\n",
       "       'community_social_sentiment', 'price_sentiment', 'volume_sentiment',\n",
       "       'marketcap_sentiment', 'Gold_Price', 'Gold_Share', 'Gold_Volatility',\n",
       "       'Oil_Crude_Price', 'Oil_Brent_Price', 'Oil_Volatility', 'DJI', 'GSPC',\n",
       "       'IXIC', 'NYFANG', 'CBOE_Volatility', 'EM_ETF', 'DXY', 'EURUSD',\n",
       "       'btc_close'],\n",
       "      dtype='object')"
      ]
     },
     "execution_count": 2,
     "metadata": {},
     "output_type": "execute_result"
    }
   ],
   "source": [
    "df.columns"
   ]
  }
 ],
 "metadata": {
  "kernelspec": {
   "display_name": "venv",
   "language": "python",
   "name": "python3"
  },
  "language_info": {
   "codemirror_mode": {
    "name": "ipython",
    "version": 3
   },
   "file_extension": ".py",
   "mimetype": "text/x-python",
   "name": "python",
   "nbconvert_exporter": "python",
   "pygments_lexer": "ipython3",
   "version": "3.10.17"
  }
 },
 "nbformat": 4,
 "nbformat_minor": 2
}
