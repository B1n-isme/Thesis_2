{
 "cells": [
  {
   "cell_type": "code",
   "execution_count": 9,
   "metadata": {},
   "outputs": [],
   "source": [
    "import pandas as pd\n",
    "\n",
    "\n",
    "df1 = pd.read_parquet('data/raw/final_feature_selected_data.parquet')\n",
    "df2 = pd.read_parquet('data/processed/final_feature_selected_data.parquet')"
   ]
  },
  {
   "cell_type": "code",
   "execution_count": 10,
   "metadata": {},
   "outputs": [
    {
     "data": {
      "text/plain": [
       "30"
      ]
     },
     "execution_count": 10,
     "metadata": {},
     "output_type": "execute_result"
    }
   ],
   "source": [
    "len(df1.columns)"
   ]
  },
  {
   "cell_type": "code",
   "execution_count": 11,
   "metadata": {},
   "outputs": [
    {
     "data": {
      "text/plain": [
       "33"
      ]
     },
     "execution_count": 11,
     "metadata": {},
     "output_type": "execute_result"
    }
   ],
   "source": [
    "len(df2.columns)"
   ]
  },
  {
   "cell_type": "code",
   "execution_count": 4,
   "metadata": {},
   "outputs": [
    {
     "name": "stdout",
     "output_type": "stream",
     "text": [
      "Common columns: ['unique_id', 'ds', 'y', 'Fear Greed', 'estimated_transaction_volume_usd_blockchain', 'btc_trading_volume', 'btc_bb_width', 'RHODL_cbbi', 'btc_sma_14_slope', 'btc_macd_diff', 'btc_sma_21_slope']\n",
      "Columns only in df1: ['CBOE_Volatility', 'EM_ETF', 'EURUSD', 'Gold_Volatility', 'Oil_Crude_Price', 'Oil_Volatility', 'PiCycle_cbbi', 'Puell_cbbi', 'active_addresses_blockchain', 'bearish_sentiment', 'btc_rsi_14', 'btc_sma_14_50_ratio', 'btc_volatility_index', 'bullish_sentiment', 'hash_rate_blockchain', 'market_narrative_sentiment', 'marketcap_sentiment', 'regulations_sentiment', 'volume_sentiment']\n",
      "Columns only in df2: ['Confidence_cbbi', 'MVRV_cbbi', 'ReserveRisk_cbbi', 'Trolololo_cbbi', 'btc_atr_14', 'btc_bb_high', 'btc_bb_low', 'btc_bb_mid', 'btc_close_ema_21_dist', 'btc_ema_14', 'btc_ema_14_50_diff', 'btc_ema_14_slope', 'btc_ema_21', 'btc_ema_5', 'btc_ema_50', 'btc_macd_signal', 'btc_sma_14', 'btc_sma_14_50_diff', 'btc_sma_21', 'btc_sma_5', 'btc_sma_50', 'btc_sma_50_slope']\n"
     ]
    }
   ],
   "source": [
    "# Compare columns between two dataframes (assuming df1 and df2 exist)\n",
    "common_cols = df1.columns.intersection(df2.columns)\n",
    "diff_cols_df1 = df1.columns.difference(df2.columns)\n",
    "diff_cols_df2 = df2.columns.difference(df1.columns)\n",
    "\n",
    "print(\"Common columns:\", common_cols.tolist())\n",
    "print(\"Columns only in df1:\", diff_cols_df1.tolist())\n",
    "print(\"Columns only in df2:\", diff_cols_df2.tolist())\n"
   ]
  }
 ],
 "metadata": {
  "kernelspec": {
   "display_name": "venv",
   "language": "python",
   "name": "python3"
  },
  "language_info": {
   "codemirror_mode": {
    "name": "ipython",
    "version": 3
   },
   "file_extension": ".py",
   "mimetype": "text/x-python",
   "name": "python",
   "nbconvert_exporter": "python",
   "pygments_lexer": "ipython3",
   "version": "3.10.17"
  }
 },
 "nbformat": 4,
 "nbformat_minor": 2
}
