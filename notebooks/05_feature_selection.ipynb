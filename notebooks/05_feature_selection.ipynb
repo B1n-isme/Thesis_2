{
  "nbformat": 4,
  "nbformat_minor": 0,
  "metadata": {
    "colab": {
      "provenance": [],
      "gpuType": "T4"
    },
    "kernelspec": {
      "name": "python3",
      "display_name": "Python 3"
    },
    "language_info": {
      "name": "python"
    },
    "accelerator": "GPU"
  },
  "cells": [
    {
      "cell_type": "code",
      "execution_count": null,
      "metadata": {
        "id": "rEkZmx1sadrY"
      },
      "outputs": [],
      "source": [
        "import pandas as pd\n",
        "import numpy as np\n",
        "from typing import Callable\n",
        "import xgboost as xgb\n",
        "import lightgbm as lgb\n",
        "from sklearn.ensemble import RandomForestRegressor\n",
        "# from cuml.ensemble import RandomForestRegressor as cuRF"
      ]
    },
    {
      "cell_type": "code",
      "source": [
        "# --- Configuration ---\n",
        "TARGET_COLUMN = 'btc_price' # Your target column name\n",
        "TOP_N_FEATURES_TO_SELECT = 10 # How many top features to display"
      ],
      "metadata": {
        "id": "Uh0xFzwGak8U"
      },
      "execution_count": null,
      "outputs": []
    },
    {
      "cell_type": "code",
      "source": [
        "def load_and_sort_csv(path):\n",
        "    df = pd.read_csv(path, parse_dates=['Date'], index_col='Date')\n",
        "    df.index = df.index.strftime('%Y-%m-%d')\n",
        "    return df.sort_index(ascending=True)\n",
        "path = '/content/drive/MyDrive/Main Sharing 1/TMA/Data/processed_dataset.csv'"
      ],
      "metadata": {
        "id": "cDqAx8_gbzT7"
      },
      "execution_count": null,
      "outputs": []
    },
    {
      "cell_type": "code",
      "source": [
        "df = load_and_sort_csv(path)"
      ],
      "metadata": {
        "id": "qrQyw7Izb0ob"
      },
      "execution_count": null,
      "outputs": []
    },
    {
      "cell_type": "code",
      "source": [
        "# --- 2. Feature Selection Functions (custom loop + lr scheduling) ---\n",
        "\n",
        "def get_feature_importances_regressor(\n",
        "    model,\n",
        "    X,\n",
        "    y,\n",
        "    model_name=\"Regressor Model\",\n",
        "    num_loops: int = 1,\n",
        "    init_params: dict = None,\n",
        "    loop_params_fn: Callable[[int, dict], dict] = None\n",
        "):\n",
        "    \"\"\"\n",
        "    Trains a regression model in multiple loops (warm-started)\n",
        "    and returns feature importances.\n",
        "\n",
        "    Args:\n",
        "      model: an unfitted sklearn‐style or cuML regressor.\n",
        "      X, y:     training data\n",
        "      num_loops: number of times to call .fit()\n",
        "      init_params: dict of __init__ kwargs for the model\n",
        "      loop_params_fn: function(loop_idx, current_params) → new_params\n",
        "                      to update model parameters each loop\n",
        "\n",
        "    Returns:\n",
        "      DataFrame with 'feature' and 'importance'.\n",
        "    \"\"\"\n",
        "    import pandas as pd\n",
        "\n",
        "    print(f\"\\n--- {model_name} Feature Selection (with {num_loops} loops) ---\")\n",
        "\n",
        "    # 1. Initialize model with any init_params\n",
        "    params = init_params.copy() if init_params else {}\n",
        "    # Only set supported init params\n",
        "    supported_init = {k: v for k, v in params.items() if k in model.get_params()}\n",
        "    if supported_init:\n",
        "        model.set_params(**supported_init)\n",
        "\n",
        "    # 2. Flatten y to 1D\n",
        "    if hasattr(y, 'ndim') and y.ndim > 1 and y.shape[1] == 1:\n",
        "        y_fit = y.iloc[:, 0]\n",
        "    else:\n",
        "        y_fit = y\n",
        "\n",
        "    # 3. Loop training\n",
        "    for loop in range(num_loops):\n",
        "        if loop_params_fn:\n",
        "            # Compute desired updates\n",
        "            candidate = loop_params_fn(loop, model.get_params())\n",
        "            supported = set(model.get_params())\n",
        "            filtered = {k: v for k, v in candidate.items() if k in supported}\n",
        "            dropped = set(candidate) - supported\n",
        "            if dropped:\n",
        "                print(f\"    ▶️ Dropping unsupported params for {model_name}: {dropped}\")\n",
        "            if filtered:\n",
        "                model.set_params(**filtered)\n",
        "            train_params = filtered\n",
        "        else:\n",
        "            train_params = {}\n",
        "\n",
        "        print(f\"  Loop {loop+1}/{num_loops}: training with params: {train_params}\")\n",
        "        model.fit(X, y_fit)\n",
        "\n",
        "    # 4. Get importances\n",
        "    try:\n",
        "        importances = model.feature_importances_\n",
        "    except AttributeError:\n",
        "        raise RuntimeError(f\"{model_name} has no attribute 'feature_importances_'\")\n",
        "\n",
        "    feat_imp = pd.DataFrame({\n",
        "        'feature': X.columns,\n",
        "        'importance': importances\n",
        "    }).sort_values('importance', ascending=False)\n",
        "\n",
        "    top_n = min(len(feat_imp), 10)\n",
        "    print(f\"Top {top_n} features for {model_name}:\")\n",
        "    print(feat_imp.head(top_n))\n",
        "    return feat_imp\n",
        "\n"
      ],
      "metadata": {
        "id": "T4MB034mb3x8"
      },
      "execution_count": null,
      "outputs": []
    },
    {
      "cell_type": "code",
      "source": [
        "TARGET_COLUMN = 'btc_price'\n",
        "TOP_N_FEATURES_TO_SELECT = 40\n",
        "\n",
        "X = df.drop(TARGET_COLUMN, axis=1)\n",
        "y = df[TARGET_COLUMN]\n",
        "\n",
        "print(f\"\\nShape of X (features): {X.shape}\")\n",
        "print(f\"Shape of y (target): {y.shape}\")\n",
        "print(f\"Features being used: {X.columns.tolist()}\")"
      ],
      "metadata": {
        "colab": {
          "base_uri": "https://localhost:8080/"
        },
        "id": "FnbknB325Pw3",
        "outputId": "6c3b3308-5ce1-48c7-a463-8b9e001277a1"
      },
      "execution_count": null,
      "outputs": [
        {
          "output_type": "stream",
          "name": "stdout",
          "text": [
            "\n",
            "Shape of X (features): (1987, 61)\n",
            "Shape of y (target): (1987,)\n",
            "Features being used: ['PiCycle_cbbi', 'RUPL_cbbi', 'RHODL_cbbi', 'Puell_cbbi', '2YMA_cbbi', 'Trolololo_cbbi', 'MVRV_cbbi', 'ReserveRisk_cbbi', 'Woobull_cbbi', 'Confidence_cbbi', 'CSCSI20', 'active_addresses_blockchain', 'hash_rate_blockchain', 'miner_revenue_blockchain', 'difficulty_blockchain', 'estimated_transaction_volume_usd_blockchain', 'Gold_Price', 'Gold_Share', 'Gold_Volatility', 'Oil_Crude_Price', 'Oil_Brent_Price', 'Oil_Volatility', 'DJI', 'GSPC', 'IXIC', 'NYFANG', 'CBOE_Volatility', 'EM_ETF', 'DXY', 'EURUSD', 'btc_sma_14', 'btc_ema_14', 'btc_rsi_14', 'btc_macd', 'btc_macd_signal', 'btc_macd_diff', 'btc_bb_high', 'btc_bb_low', 'btc_bb_mid', 'btc_bb_width', 'btc_atr_14', 'btc_trading_volume', 'btc_volatility_index', 'Fear Greed', 'positive_sentiment', 'negative_sentiment', 'bullish_sentiment', 'bearish_sentiment', 'risk_uncertainty_sentiment', 'problem_malicious_sentiment', 'active_trading_sentiment', 'long_term_investment_sentiment', 'market_narrative_sentiment', 'core_technology_sentiment', 'development_ecosystem_sentiment', 'news_events_sentiment', 'regulations_sentiment', 'community_social_sentiment', 'price_sentiment', 'volume_sentiment', 'marketcap_sentiment']\n"
          ]
        }
      ]
    },
    {
      "cell_type": "code",
      "source": [
        "# Define your scheduling function\n",
        "def schedule(loop, params):\n",
        "    # add 20 trees each loop, decay lr by 5% every 3 loops\n",
        "    new_lr = params['learning_rate'] * (0.95 ** (loop // 3))\n",
        "    return {\n",
        "        'n_estimators': params['n_estimators'] + 20,\n",
        "        'learning_rate': new_lr\n",
        "    }"
      ],
      "metadata": {
        "id": "cmQdrqH-5GBX"
      },
      "execution_count": null,
      "outputs": []
    },
    {
      "cell_type": "code",
      "source": [
        "# --- XGBoost Feature Selection ---\n",
        "xgb_regressor = xgb.XGBRegressor(\n",
        "    objective='reg:squarederror',\n",
        "    random_state=42,\n",
        "    n_estimators=100,\n",
        "    tree_method='hist',   # keep as 'hist'\n",
        "    device='cuda',        # explicitly move to GPU\n",
        "    learning_rate=0.1     # your custom LR\n",
        ")\n",
        "xgb_importances = get_feature_importances_regressor(\n",
        "    xgb_regressor, X, y, model_name=\"XGBoost Regressor\",\n",
        "    num_loops=10,\n",
        "    init_params={'n_estimators': 50, 'learning_rate': 0.1},\n",
        "    loop_params_fn=schedule\n",
        "    )\n",
        "\n",
        "# --- LightGBM Feature Selection ---\n",
        "lgb_regressor = lgb.LGBMRegressor(\n",
        "    objective='regression_l1', # MAE, or 'regression' for MSE\n",
        "    random_state=42,\n",
        "    n_estimators=100, # Default, can be tuned\n",
        "    verbose=-1 ,\n",
        "    device='gpu',               # enable GPU training\n",
        "    gpu_platform_id=0,          # (optional) CUDA platform\n",
        "    gpu_device_id=0             # (optional) which GPU\n",
        ")\n",
        "lgb_importances = get_feature_importances_regressor(\n",
        "    lgb_regressor, X, y, model_name=\"LightGBM Regressor\",\n",
        "    num_loops=10,\n",
        "    init_params={'n_estimators': 50, 'learning_rate': 0.1},\n",
        "    loop_params_fn=schedule\n",
        "    )\n",
        "\n",
        "# --- Random Forest Feature Selection ---\n",
        "# --- Random Forest Feature Selection ---\n",
        "rf_regressor = RandomForestRegressor(\n",
        "    n_estimators=100,\n",
        "    random_state=42,\n",
        "    n_jobs=-1, # Use all available cores\n",
        "    max_features='sqrt' # Common choice for RF regression\n",
        ")\n",
        "rf_importances = get_feature_importances_regressor(\n",
        "    rf_regressor, X, y, model_name=\"Random Forest Regressor\"\n",
        "    )\n",
        "\n",
        "# --- Using Selected Features ---\n",
        "# You can now take the top features from any of these models (or an intersection/union)\n",
        "# to create a reduced dataset for your Deep Learning model.\n",
        "if not xgb_importances.empty:\n",
        "    selected_features_xgb = xgb_importances['feature'].head(TOP_N_FEATURES_TO_SELECT).tolist()\n",
        "    print(f\"\\nTop {TOP_N_FEATURES_TO_SELECT} features from XGBoost Regressor to consider for DL model: {selected_features_xgb}\")\n",
        "    X_selected_xgb = X[selected_features_xgb]\n",
        "    print(f\"Shape of dataset with XGBoost selected features: {X_selected_xgb.shape}\")\n",
        "\n",
        "if not lgb_importances.empty:\n",
        "    selected_features_lgb = lgb_importances['feature'].head(TOP_N_FEATURES_TO_SELECT).tolist()\n",
        "    print(f\"\\nTop {TOP_N_FEATURES_TO_SELECT} features from LightGBM Regressor to consider for DL model: {selected_features_lgb}\")\n",
        "    X_selected_lgb = X[selected_features_lgb]\n",
        "    print(f\"Shape of dataset with LightGBM selected features: {X_selected_lgb.shape}\")\n",
        "\n",
        "if not rf_importances.empty:\n",
        "    selected_features_rf = rf_importances['feature'].head(TOP_N_FEATURES_TO_SELECT).tolist()\n",
        "    print(f\"\\nTop {TOP_N_FEATURES_TO_SELECT} features from Random Forest Regressor to consider for DL model: {selected_features_rf}\")\n",
        "    X_selected_rf = X[selected_features_rf]\n",
        "    print(f\"Shape of dataset with Random Forest selected features: {X_selected_rf.shape}\")"
      ],
      "metadata": {
        "colab": {
          "base_uri": "https://localhost:8080/"
        },
        "id": "ytOF1DeFcBS8",
        "outputId": "13333dd3-cf7f-4262-c1f4-92e89a604b23"
      },
      "execution_count": null,
      "outputs": [
        {
          "output_type": "stream",
          "name": "stdout",
          "text": [
            "\n",
            "--- XGBoost Regressor Feature Selection (with 10 loops) ---\n",
            "  Loop 1/10: training with params: {'n_estimators': 70, 'learning_rate': 0.1}\n",
            "  Loop 2/10: training with params: {'n_estimators': 90, 'learning_rate': 0.1}\n",
            "  Loop 3/10: training with params: {'n_estimators': 110, 'learning_rate': 0.1}\n",
            "  Loop 4/10: training with params: {'n_estimators': 130, 'learning_rate': 0.095}\n",
            "  Loop 5/10: training with params: {'n_estimators': 150, 'learning_rate': 0.09025}\n",
            "  Loop 6/10: training with params: {'n_estimators': 170, 'learning_rate': 0.0857375}\n",
            "  Loop 7/10: training with params: {'n_estimators': 190, 'learning_rate': 0.07737809374999999}\n",
            "  Loop 8/10: training with params: {'n_estimators': 210, 'learning_rate': 0.06983372960937499}\n",
            "  Loop 9/10: training with params: {'n_estimators': 230, 'learning_rate': 0.06302494097246093}\n",
            "  Loop 10/10: training with params: {'n_estimators': 250, 'learning_rate': 0.05403600876626369}\n",
            "Top 10 features for XGBoost Regressor:\n",
            "                 feature  importance\n",
            "32            btc_rsi_14    0.067517\n",
            "26       CBOE_Volatility    0.052541\n",
            "33              btc_macd    0.048133\n",
            "47     bearish_sentiment    0.044655\n",
            "23                  GSPC    0.036119\n",
            "46     bullish_sentiment    0.033695\n",
            "58       price_sentiment    0.028411\n",
            "42  btc_volatility_index    0.027738\n",
            "10               CSCSI20    0.027327\n",
            "39          btc_bb_width    0.026169\n",
            "\n",
            "--- LightGBM Regressor Feature Selection (with 10 loops) ---\n",
            "  Loop 1/10: training with params: {'n_estimators': 70, 'learning_rate': 0.1}\n",
            "  Loop 2/10: training with params: {'n_estimators': 90, 'learning_rate': 0.1}\n",
            "  Loop 3/10: training with params: {'n_estimators': 110, 'learning_rate': 0.1}\n",
            "  Loop 4/10: training with params: {'n_estimators': 130, 'learning_rate': 0.095}\n",
            "  Loop 5/10: training with params: {'n_estimators': 150, 'learning_rate': 0.09025}\n",
            "  Loop 6/10: training with params: {'n_estimators': 170, 'learning_rate': 0.0857375}\n",
            "  Loop 7/10: training with params: {'n_estimators': 190, 'learning_rate': 0.07737809374999999}\n",
            "  Loop 8/10: training with params: {'n_estimators': 210, 'learning_rate': 0.06983372960937499}\n",
            "  Loop 9/10: training with params: {'n_estimators': 230, 'learning_rate': 0.06302494097246093}\n",
            "  Loop 10/10: training with params: {'n_estimators': 250, 'learning_rate': 0.05403600876626369}\n",
            "Top 10 features for LightGBM Regressor:\n",
            "                        feature  importance\n",
            "32                   btc_rsi_14         648\n",
            "35                btc_macd_diff         475\n",
            "42         btc_volatility_index         451\n",
            "33                     btc_macd         373\n",
            "1                     RUPL_cbbi         372\n",
            "46            bullish_sentiment         231\n",
            "39                 btc_bb_width         214\n",
            "47            bearish_sentiment         198\n",
            "3                    Puell_cbbi         178\n",
            "11  active_addresses_blockchain         177\n",
            "\n",
            "--- Random Forest Regressor Feature Selection (with 1 loops) ---\n",
            "  Loop 1/1: training with params: {}\n",
            "Top 10 features for Random Forest Regressor:\n",
            "                     feature  importance\n",
            "32                btc_rsi_14    0.096870\n",
            "47         bearish_sentiment    0.047994\n",
            "42      btc_volatility_index    0.038007\n",
            "46         bullish_sentiment    0.037766\n",
            "35             btc_macd_diff    0.028456\n",
            "58           price_sentiment    0.024254\n",
            "26           CBOE_Volatility    0.022975\n",
            "33                  btc_macd    0.021440\n",
            "50  active_trading_sentiment    0.020960\n",
            "41        btc_trading_volume    0.020445\n",
            "\n",
            "Top 40 features from XGBoost Regressor to consider for DL model: ['btc_rsi_14', 'CBOE_Volatility', 'btc_macd', 'bearish_sentiment', 'GSPC', 'bullish_sentiment', 'price_sentiment', 'btc_volatility_index', 'CSCSI20', 'btc_bb_width', 'btc_macd_signal', 'active_trading_sentiment', 'difficulty_blockchain', 'btc_sma_14', 'btc_ema_14', 'marketcap_sentiment', 'btc_bb_low', 'NYFANG', 'positive_sentiment', 'btc_macd_diff', 'long_term_investment_sentiment', '2YMA_cbbi', 'DJI', 'btc_trading_volume', 'community_social_sentiment', 'btc_bb_high', 'Confidence_cbbi', 'Oil_Crude_Price', 'market_narrative_sentiment', 'Oil_Brent_Price', 'Trolololo_cbbi', 'Woobull_cbbi', 'DXY', 'Gold_Price', 'volume_sentiment', 'EM_ETF', 'RUPL_cbbi', 'Fear Greed', 'risk_uncertainty_sentiment', 'IXIC']\n",
            "Shape of dataset with XGBoost selected features: (1987, 40)\n",
            "\n",
            "Top 40 features from LightGBM Regressor to consider for DL model: ['btc_rsi_14', 'btc_macd_diff', 'btc_volatility_index', 'btc_macd', 'RUPL_cbbi', 'bullish_sentiment', 'btc_bb_width', 'bearish_sentiment', 'Puell_cbbi', 'active_addresses_blockchain', 'market_narrative_sentiment', 'volume_sentiment', 'marketcap_sentiment', 'Fear Greed', '2YMA_cbbi', 'Gold_Volatility', 'MVRV_cbbi', 'Woobull_cbbi', 'Trolololo_cbbi', 'regulations_sentiment', 'problem_malicious_sentiment', 'btc_macd_signal', 'estimated_transaction_volume_usd_blockchain', 'community_social_sentiment', 'Oil_Volatility', 'positive_sentiment', 'price_sentiment', 'miner_revenue_blockchain', 'news_events_sentiment', 'EM_ETF', 'active_trading_sentiment', 'CBOE_Volatility', 'risk_uncertainty_sentiment', 'btc_atr_14', 'hash_rate_blockchain', 'PiCycle_cbbi', 'core_technology_sentiment', 'btc_trading_volume', 'Oil_Crude_Price', 'long_term_investment_sentiment']\n",
            "Shape of dataset with LightGBM selected features: (1987, 40)\n",
            "\n",
            "Top 40 features from Random Forest Regressor to consider for DL model: ['btc_rsi_14', 'bearish_sentiment', 'btc_volatility_index', 'bullish_sentiment', 'btc_macd_diff', 'price_sentiment', 'CBOE_Volatility', 'btc_macd', 'active_trading_sentiment', 'btc_trading_volume', 'btc_macd_signal', 'negative_sentiment', 'btc_bb_width', 'market_narrative_sentiment', 'marketcap_sentiment', 'Oil_Crude_Price', 'Oil_Volatility', 'regulations_sentiment', 'EM_ETF', 'positive_sentiment', 'long_term_investment_sentiment', 'Puell_cbbi', 'Trolololo_cbbi', 'Woobull_cbbi', 'risk_uncertainty_sentiment', 'RUPL_cbbi', 'estimated_transaction_volume_usd_blockchain', 'community_social_sentiment', 'problem_malicious_sentiment', 'volume_sentiment', 'core_technology_sentiment', 'news_events_sentiment', 'Oil_Brent_Price', 'active_addresses_blockchain', 'Gold_Volatility', 'Fear Greed', 'DJI', '2YMA_cbbi', 'hash_rate_blockchain', 'miner_revenue_blockchain']\n",
            "Shape of dataset with Random Forest selected features: (1987, 40)\n"
          ]
        }
      ]
    },
    {
      "cell_type": "code",
      "source": [
        "common_features = list(set(selected_features_rf) & set(selected_features_lgb) & set(selected_features_xgb))\n",
        "type(common_features)"
      ],
      "metadata": {
        "colab": {
          "base_uri": "https://localhost:8080/"
        },
        "id": "fs5vOPzScGHs",
        "outputId": "8bda865c-6309-4db6-ed04-a47fe3d671d7"
      },
      "execution_count": null,
      "outputs": [
        {
          "output_type": "execute_result",
          "data": {
            "text/plain": [
              "list"
            ]
          },
          "metadata": {},
          "execution_count": 31
        }
      ]
    },
    {
      "cell_type": "code",
      "source": [
        "# prompt: print each value in a list in separate line\n",
        "\n",
        "for feature in common_features:\n",
        "  print(feature)\n"
      ],
      "metadata": {
        "colab": {
          "base_uri": "https://localhost:8080/"
        },
        "id": "lA11_s_ADRla",
        "outputId": "555682b8-89ef-4311-f62b-d0daa88cf321"
      },
      "execution_count": null,
      "outputs": [
        {
          "output_type": "stream",
          "name": "stdout",
          "text": [
            "Trolololo_cbbi\n",
            "market_narrative_sentiment\n",
            "Woobull_cbbi\n",
            "Oil_Crude_Price\n",
            "btc_macd_signal\n",
            "volume_sentiment\n",
            "2YMA_cbbi\n",
            "RUPL_cbbi\n",
            "positive_sentiment\n",
            "Fear Greed\n",
            "btc_macd\n",
            "btc_macd_diff\n",
            "btc_rsi_14\n",
            "community_social_sentiment\n",
            "long_term_investment_sentiment\n",
            "EM_ETF\n",
            "btc_volatility_index\n",
            "risk_uncertainty_sentiment\n",
            "active_trading_sentiment\n",
            "bearish_sentiment\n",
            "btc_trading_volume\n",
            "btc_bb_width\n",
            "price_sentiment\n",
            "CBOE_Volatility\n",
            "bullish_sentiment\n",
            "marketcap_sentiment\n"
          ]
        }
      ]
    }
  ]
}