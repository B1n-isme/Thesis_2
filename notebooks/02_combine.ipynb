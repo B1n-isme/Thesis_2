{
 "cells": [
  {
   "cell_type": "code",
   "execution_count": 2,
   "id": "c6dd1f51",
   "metadata": {},
   "outputs": [],
   "source": [
    "import pandas as pd\n",
    "\n",
    "pd.set_option('display.max_rows', None)        # Show all rows\n",
    "pd.set_option('display.max_columns', None)     # Show all columns\n",
    "pd.set_option('display.width', None)           # Disable line wrapping\n",
    "pd.set_option('display.max_colwidth', None)    # Show full column content (especially for strings)\n",
    "\n",
    "def load_and_sort_csv(path):\n",
    "    df = pd.read_csv(path, parse_dates=['Date'], index_col='Date')  # parse 'date' as datetime\n",
    "    df = df.sort_index(ascending=True)  # sort by date\n",
    "    # df.index = pd.to_datetime(df.index)\n",
    "    if df.index.tz is not None:\n",
    "        df.index = df.index.tz_localize(None)\n",
    "    return df"
   ]
  },
  {
   "cell_type": "code",
   "execution_count": 3,
   "id": "87b89505",
   "metadata": {},
   "outputs": [
    {
     "name": "stdout",
     "output_type": "stream",
     "text": [
      "Date ranges and missing dates:\n",
      "\n",
      "CBBI:\n",
      "Date range: 2011-06-27 00:00:00 to 2025-04-21 00:00:00\n",
      "\n",
      "Dataset:\n",
      "Date range: 2016-12-06 00:00:00 to 2025-05-11 00:00:00\n",
      "\n",
      "Fear & Greed:\n",
      "Date range: 2011-01-03 00:00:00 to 2025-05-06 00:00:00\n",
      "\n",
      "Sentiment:\n",
      "Date range: 2016-11-01 00:00:00 to 2025-01-13 00:00:00\n"
     ]
    }
   ],
   "source": [
    "cbbi = load_and_sort_csv('../data/processed/Bitcoin Bull Run Index (CBBI).csv')\n",
    "# add postfix _cbbi before the column names\n",
    "cbbi.columns = [f\"{col}_cbbi\" for col in cbbi.columns]\n",
    "# cscsi20 = load_and_sort_csv('../data/processed/cscsi20_CompassSESAMmCryptoSentimentIndex.csv')\n",
    "dataset = load_and_sort_csv('../data/processed/dataset.csv')\n",
    "fear_greed = load_and_sort_csv('../data/processed/fear_greed_index.csv')\n",
    "sentiment = load_and_sort_csv('../data/processed/sentiment_grouped.csv')\n",
    "\n",
    "# Check for missing dates in each dataframe\n",
    "print(\"Date ranges and missing dates:\")\n",
    "for name, df in [('CBBI', cbbi), ('Dataset', dataset), \n",
    "                ('Fear & Greed', fear_greed), ('Sentiment', sentiment)]:\n",
    "    date_range = pd.date_range(start=df.index.min(), end=df.index.max(), freq='D')\n",
    "    missing_dates = date_range.difference(df.index)\n",
    "    print(f\"\\n{name}:\")\n",
    "    print(f\"Date range: {df.index.min()} to {df.index.max()}\")\n",
    "    # print(f\"Missing dates: {len(missing_dates)}\")\n",
    "    # if len(missing_dates) > 0:\n",
    "    #     print(f\"First few missing dates: {missing_dates[:5]}\")"
   ]
  },
  {
   "cell_type": "code",
   "execution_count": 4,
   "id": "933c481a",
   "metadata": {},
   "outputs": [
    {
     "name": "stdout",
     "output_type": "stream",
     "text": [
      "Result shape: (2961, 62)\n"
     ]
    }
   ],
   "source": [
    "# Find mutual date range across all dataframes\n",
    "start = max(df.index.min() for df in [cbbi, dataset, fear_greed, sentiment])\n",
    "end = min(df.index.max() for df in [cbbi, dataset, fear_greed, sentiment])\n",
    "calendar = pd.date_range(start=start, end=end, freq='D')\n",
    "\n",
    "# Reindex each to the predefined calendar\n",
    "cbbi        = cbbi.reindex(calendar)\n",
    "dataset     = dataset.reindex(calendar)\n",
    "fear_greed  = fear_greed.reindex(calendar)\n",
    "sentiment   = sentiment.reindex(calendar)\n",
    "\n",
    "# Forward fill missing values\n",
    "for df in [cbbi, dataset, fear_greed, sentiment]:\n",
    "    df.ffill(inplace=True)\n",
    "\n",
    "# Inner join all dataframes\n",
    "df = pd.concat([cbbi, dataset, fear_greed, sentiment],\n",
    "               axis=1,\n",
    "               join='inner')\n",
    "\n",
    "# Move BTC column to end\n",
    "btc_col = 'btc_price' if 'btc_price' in df.columns else 'btc_close'\n",
    "df = pd.concat([df.drop(columns=[btc_col]), df[btc_col]], axis=1)\n",
    "\n",
    "# Export with 'Date' as a column\n",
    "df_reset = df.reset_index().rename(columns={'index': 'Date'})\n",
    "df_reset.to_csv('../data/final/final_dataset.csv', index=False)\n",
    "print(\"Result shape:\", df.shape)"
   ]
  },
  {
   "cell_type": "code",
   "execution_count": 5,
   "id": "e8ea779e",
   "metadata": {},
   "outputs": [
    {
     "name": "stdout",
     "output_type": "stream",
     "text": [
      "\n",
      "Sentiment:\n",
      "Date range: 2016-12-06 00:00:00 to 2025-01-13 00:00:00\n",
      "Missing dates: 0\n"
     ]
    }
   ],
   "source": [
    "date_range = pd.date_range(start=df.index.min(), end=df.index.max(), freq='D')\n",
    "missing_dates = date_range.difference(df.index)\n",
    "print(f\"\\n{name}:\")\n",
    "print(f\"Date range: {df.index.min()} to {df.index.max()}\")\n",
    "print(f\"Missing dates: {len(missing_dates)}\")\n",
    "if len(missing_dates) > 0:\n",
    "    print(f\"First few missing dates: {missing_dates[:5]}\")"
   ]
  },
  {
   "cell_type": "code",
   "execution_count": null,
   "id": "46cb5e45",
   "metadata": {},
   "outputs": [],
   "source": []
  }
 ],
 "metadata": {
  "kernelspec": {
   "display_name": "bitcoin",
   "language": "python",
   "name": "python3"
  },
  "language_info": {
   "codemirror_mode": {
    "name": "ipython",
    "version": 3
   },
   "file_extension": ".py",
   "mimetype": "text/x-python",
   "name": "python",
   "nbconvert_exporter": "python",
   "pygments_lexer": "ipython3",
   "version": "3.10.17"
  }
 },
 "nbformat": 4,
 "nbformat_minor": 5
}
