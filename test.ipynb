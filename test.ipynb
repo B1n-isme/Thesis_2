{
 "cells": [
  {
   "cell_type": "code",
   "execution_count": 1,
   "metadata": {},
   "outputs": [
    {
     "name": "stdout",
     "output_type": "stream",
     "text": [
      "Loading and preparing data...\n",
      "\n",
      "Total data shape: (2922, 33)\n",
      "Train set shape: (2915, 33)\n",
      "Test set shape: (7, 33)\n",
      "  Train set covers: 2017-01-01 00:00:00 to 2024-12-24 00:00:00\n",
      "  Test set covers: 2024-12-25 00:00:00 to 2024-12-31 00:00:00\n"
     ]
    }
   ],
   "source": [
    "from ray import tune\n",
    "import matplotlib.pyplot as plt\n",
    "from src.dataset.data_preparation import prepare_data\n",
    "from config.base import HORIZON, TEST_LENGTH_MULTIPLIER\n",
    "\n",
    "# Get data\n",
    "train_df, test_df, hist_exog = prepare_data(horizon=HORIZON, test_length_multiplier=TEST_LENGTH_MULTIPLIER)"
   ]
  },
  {
   "cell_type": "code",
   "execution_count": 5,
   "metadata": {},
   "outputs": [
    {
     "name": "stderr",
     "output_type": "stream",
     "text": [
      "Seed set to 1\n",
      "GPU available: True (cuda), used: True\n",
      "TPU available: False, using: 0 TPU cores\n",
      "HPU available: False, using: 0 HPUs\n",
      "LOCAL_RANK: 0 - CUDA_VISIBLE_DEVICES: [0]\n",
      "\n",
      "  | Name         | Type          | Params | Mode \n",
      "-------------------------------------------------------\n",
      "0 | loss         | MAE           | 0      | train\n",
      "1 | padder_train | ConstantPad1d | 0      | train\n",
      "2 | scaler       | TemporalNorm  | 0      | train\n",
      "3 | blocks       | ModuleList    | 2.4 M  | train\n",
      "-------------------------------------------------------\n",
      "2.4 M     Trainable params\n",
      "0         Non-trainable params\n",
      "2.4 M     Total params\n",
      "9.640     Total estimated model params size (MB)\n",
      "34        Modules in train mode\n",
      "0         Modules in eval mode\n"
     ]
    },
    {
     "data": {
      "application/vnd.jupyter.widget-view+json": {
       "model_id": "e3d7f1ee2a4d4c64956f6dee49a1a8d4",
       "version_major": 2,
       "version_minor": 0
      },
      "text/plain": [
       "Sanity Checking: |          | 0/? [00:00<?, ?it/s]"
      ]
     },
     "metadata": {},
     "output_type": "display_data"
    },
    {
     "data": {
      "application/vnd.jupyter.widget-view+json": {
       "model_id": "980920949bac4a92bd375926fc50375a",
       "version_major": 2,
       "version_minor": 0
      },
      "text/plain": [
       "Training: |          | 0/? [00:00<?, ?it/s]"
      ]
     },
     "metadata": {},
     "output_type": "display_data"
    },
    {
     "data": {
      "application/vnd.jupyter.widget-view+json": {
       "model_id": "3a750eb368664d2f9c5b4679fac9c9ec",
       "version_major": 2,
       "version_minor": 0
      },
      "text/plain": [
       "Validation: |          | 0/? [00:00<?, ?it/s]"
      ]
     },
     "metadata": {},
     "output_type": "display_data"
    },
    {
     "name": "stderr",
     "output_type": "stream",
     "text": [
      "`Trainer.fit` stopped: `max_steps=100` reached.\n",
      "GPU available: True (cuda), used: True\n",
      "TPU available: False, using: 0 TPU cores\n",
      "HPU available: False, using: 0 HPUs\n",
      "LOCAL_RANK: 0 - CUDA_VISIBLE_DEVICES: [0]\n"
     ]
    },
    {
     "data": {
      "application/vnd.jupyter.widget-view+json": {
       "model_id": "6b8cf4219fbb434d9f3466c70db35cb4",
       "version_major": 2,
       "version_minor": 0
      },
      "text/plain": [
       "Predicting: |          | 0/? [00:00<?, ?it/s]"
      ]
     },
     "metadata": {},
     "output_type": "display_data"
    },
    {
     "name": "stdout",
     "output_type": "stream",
     "text": [
      "    unique_id         ds     cutoff          NHITS            y\n",
      "0     Bitcoin 2024-01-17 2024-01-16   43140.320312  42742.65234\n",
      "1     Bitcoin 2024-01-18 2024-01-16   43228.617188  41262.05859\n",
      "2     Bitcoin 2024-01-19 2024-01-16   43280.667969  41618.40625\n",
      "3     Bitcoin 2024-01-20 2024-01-16   43340.562500  41665.58594\n",
      "4     Bitcoin 2024-01-21 2024-01-16   43213.472656  41545.78516\n",
      "..        ...        ...        ...            ...          ...\n",
      "338   Bitcoin 2024-12-20 2024-12-17  106404.296875  97755.92969\n",
      "339   Bitcoin 2024-12-21 2024-12-17  106513.250000  97224.72656\n",
      "340   Bitcoin 2024-12-22 2024-12-17  106205.039062  95104.93750\n",
      "341   Bitcoin 2024-12-23 2024-12-17  106279.968750  94686.24219\n",
      "342   Bitcoin 2024-12-24 2024-12-17  105847.414062  98676.09375\n",
      "\n",
      "[343 rows x 5 columns]\n"
     ]
    }
   ],
   "source": [
    "from neuralforecast import NeuralForecast\n",
    "from neuralforecast.models import NHITS, LSTM\n",
    "from neuralforecast.utils import PredictionIntervals\n",
    "from config.base import CV_N_WINDOWS, CV_STEP_SIZE\n",
    "\n",
    "nf = NeuralForecast(\n",
    "    models=[\n",
    "        NHITS(\n",
    "            h=7,                   # Forecast horizon\n",
    "            input_size=2 * 7,      # Length of input sequence\n",
    "            max_steps=100,               # Number of steps to train\n",
    "            n_freq_downsample=[2, 1, 1],\n",
    "        ),\n",
    "        # LSTM(input_size=2 * 7,\n",
    "        #        h=7,                    # Forecast horizon\n",
    "        #        max_steps=500,                # Number of steps to train\n",
    "        #        scaler_type='standard',       # Type of scaler to normalize data\n",
    "        #        encoder_hidden_size=64,       # Defines the size of the hidden state of the LSTM\n",
    "        #        decoder_hidden_size=64,\n",
    "        # )\n",
    "    ],\n",
    "    freq='D')\n",
    "\n",
    "# nf.fit(\n",
    "#     train_df,\n",
    "#     val_size=7,\n",
    "#     prediction_intervals=PredictionIntervals(n_windows=2))\n",
    "\n",
    "# nf.predict(level=[90])\n",
    "\n",
    "cv_df = nf.cross_validation(\n",
    "    df=train_df,\n",
    "    n_windows=CV_N_WINDOWS,\n",
    "    step_size=7,\n",
    "    # prediction_intervals=PredictionIntervals(n_windows=2)\n",
    ")\n",
    "\n",
    "print(cv_df)"
   ]
  },
  {
   "cell_type": "code",
   "execution_count": 7,
   "metadata": {},
   "outputs": [],
   "source": [
    "# from statsforecast import StatsForecast\n",
    "# from statsforecast.models import AutoARIMA\n",
    "\n",
    "# sf = StatsForecast(models=[AutoARIMA(season_length=7)], freq='D', verbose=False) # Replace 'D' with your freq\n",
    "# df = sf.cross_validation(\n",
    "#     df=train_df[['unique_id', 'ds', 'y']],\n",
    "#     h=24,\n",
    "#     step_size=24,\n",
    "#     n_windows=2\n",
    "# ) # Ensure val_size is adequate\n"
   ]
  }
 ],
 "metadata": {
  "kernelspec": {
   "display_name": "venv",
   "language": "python",
   "name": "python3"
  },
  "language_info": {
   "codemirror_mode": {
    "name": "ipython",
    "version": 3
   },
   "file_extension": ".py",
   "mimetype": "text/x-python",
   "name": "python",
   "nbconvert_exporter": "python",
   "pygments_lexer": "ipython3",
   "version": "3.10.17"
  }
 },
 "nbformat": 4,
 "nbformat_minor": 2
}
