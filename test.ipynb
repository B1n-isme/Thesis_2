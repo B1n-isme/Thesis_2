{
 "cells": [
  {
   "cell_type": "code",
   "execution_count": 2,
   "metadata": {},
   "outputs": [
    {
     "name": "stderr",
     "output_type": "stream",
     "text": [
      "Seed set to 1\n"
     ]
    },
    {
     "name": "stdout",
     "output_type": "stream",
     "text": [
      "Loading and preparing data...\n",
      "Forecast horizon (h) set to: 7 days\n",
      "\n",
      "Total data shape: (2922, 80)\n",
      "Train set shape: (2887, 80)\n",
      "Test set shape: (35, 80)\n",
      "  Train set covers: 2017-01-01 00:00:00 to 2024-11-26 00:00:00\n",
      "  Test set covers: 2024-11-27 00:00:00 to 2024-12-31 00:00:00\n"
     ]
    }
   ],
   "source": [
    "from ray import tune\n",
    "import matplotlib.pyplot as plt\n",
    "from src.dataset.data_preparation import prepare_data\n",
    "from config.base import HORIZON, TEST_LENGTH_MULTIPLIER\n",
    "from neuralforecast.models import NHITS, NBEATS, LSTM\n",
    "\n",
    "# Get data\n",
    "train_df, test_df, hist_exog = prepare_data(horizon=HORIZON, test_length_multiplier=TEST_LENGTH_MULTIPLIER)\n",
    "\n",
    "nhits_config = {\n",
    "    \"max_steps\": 50, \n",
    "    \"input_size\": 24,\n",
    "}\n",
    "\n",
    "# Horizon must be the same for all models\n",
    "horizon = 12\n",
    "\n",
    "initial_model_list = [\n",
    "    NHITS(h=horizon, input_size=24, max_steps=50),\n",
    "]\n"
   ]
  },
  {
   "cell_type": "code",
   "execution_count": 5,
   "metadata": {},
   "outputs": [
    {
     "name": "stderr",
     "output_type": "stream",
     "text": [
      "/home/linh/miniforge3/envs/venv/lib/python3.10/site-packages/neuralforecast/common/_base_model.py:535: UserWarning: val_check_steps is greater than max_steps, setting val_check_steps to max_steps.\n",
      "  warnings.warn(\n",
      "GPU available: True (cuda), used: True\n",
      "TPU available: False, using: 0 TPU cores\n",
      "HPU available: False, using: 0 HPUs\n",
      "LOCAL_RANK: 0 - CUDA_VISIBLE_DEVICES: [0]\n",
      "\n",
      "  | Name         | Type          | Params | Mode \n",
      "-------------------------------------------------------\n",
      "0 | loss         | MAE           | 0      | train\n",
      "1 | padder_train | ConstantPad1d | 0      | train\n",
      "2 | scaler       | TemporalNorm  | 0      | train\n",
      "3 | blocks       | ModuleList    | 2.4 M  | train\n",
      "-------------------------------------------------------\n",
      "2.4 M     Trainable params\n",
      "0         Non-trainable params\n",
      "2.4 M     Total params\n",
      "9.751     Total estimated model params size (MB)\n",
      "34        Modules in train mode\n",
      "0         Modules in eval mode\n"
     ]
    },
    {
     "data": {
      "application/vnd.jupyter.widget-view+json": {
       "model_id": "ed769360653c4d928b6eb43016ef2eff",
       "version_major": 2,
       "version_minor": 0
      },
      "text/plain": [
       "Sanity Checking: |          | 0/? [00:00<?, ?it/s]"
      ]
     },
     "metadata": {},
     "output_type": "display_data"
    },
    {
     "name": "stderr",
     "output_type": "stream",
     "text": [
      "/home/linh/miniforge3/envs/venv/lib/python3.10/site-packages/lightning/pytorch/trainer/connectors/data_connector.py:425: The 'val_dataloader' does not have many workers which may be a bottleneck. Consider increasing the value of the `num_workers` argument` to `num_workers=3` in the `DataLoader` to improve performance.\n",
      "/home/linh/miniforge3/envs/venv/lib/python3.10/site-packages/lightning/pytorch/trainer/connectors/data_connector.py:425: The 'train_dataloader' does not have many workers which may be a bottleneck. Consider increasing the value of the `num_workers` argument` to `num_workers=3` in the `DataLoader` to improve performance.\n",
      "/home/linh/miniforge3/envs/venv/lib/python3.10/site-packages/lightning/pytorch/loops/fit_loop.py:310: The number of training batches (1) is smaller than the logging interval Trainer(log_every_n_steps=50). Set a lower value for log_every_n_steps if you want to see logs for the training epoch.\n"
     ]
    },
    {
     "data": {
      "application/vnd.jupyter.widget-view+json": {
       "model_id": "94338973827247bc94a927464b2c9792",
       "version_major": 2,
       "version_minor": 0
      },
      "text/plain": [
       "Training: |          | 0/? [00:00<?, ?it/s]"
      ]
     },
     "metadata": {},
     "output_type": "display_data"
    },
    {
     "data": {
      "application/vnd.jupyter.widget-view+json": {
       "model_id": "22e222586de5429fb6b01e83b5d582af",
       "version_major": 2,
       "version_minor": 0
      },
      "text/plain": [
       "Validation: |          | 0/? [00:00<?, ?it/s]"
      ]
     },
     "metadata": {},
     "output_type": "display_data"
    },
    {
     "name": "stderr",
     "output_type": "stream",
     "text": [
      "`Trainer.fit` stopped: `max_steps=50` reached.\n",
      "/home/linh/miniforge3/envs/venv/lib/python3.10/site-packages/neuralforecast/core.py:939: UserWarning: Dropped 23 unused rows from `futr_df`.\n",
      "  warnings.warn(f\"Dropped {dropped_rows:,} unused rows from `futr_df`.\")\n",
      "GPU available: True (cuda), used: True\n",
      "TPU available: False, using: 0 TPU cores\n",
      "HPU available: False, using: 0 HPUs\n",
      "LOCAL_RANK: 0 - CUDA_VISIBLE_DEVICES: [0]\n",
      "/home/linh/miniforge3/envs/venv/lib/python3.10/site-packages/lightning/pytorch/trainer/connectors/data_connector.py:425: The 'predict_dataloader' does not have many workers which may be a bottleneck. Consider increasing the value of the `num_workers` argument` to `num_workers=3` in the `DataLoader` to improve performance.\n"
     ]
    },
    {
     "data": {
      "application/vnd.jupyter.widget-view+json": {
       "model_id": "0508de43a4f64f9db593857e506754eb",
       "version_major": 2,
       "version_minor": 0
      },
      "text/plain": [
       "Predicting: |          | 0/? [00:00<?, ?it/s]"
      ]
     },
     "metadata": {},
     "output_type": "display_data"
    },
    {
     "name": "stdout",
     "output_type": "stream",
     "text": [
      "   unique_id         ds         NHITS\n",
      "0    Bitcoin 2024-11-27  92056.898438\n",
      "1    Bitcoin 2024-11-28  92282.492188\n",
      "2    Bitcoin 2024-11-29  91962.046875\n",
      "3    Bitcoin 2024-11-30  91912.148438\n",
      "4    Bitcoin 2024-12-01  92045.796875\n",
      "5    Bitcoin 2024-12-02  92076.117188\n",
      "6    Bitcoin 2024-12-03  92221.015625\n",
      "7    Bitcoin 2024-12-04  92132.906250\n",
      "8    Bitcoin 2024-12-05  92232.414062\n",
      "9    Bitcoin 2024-12-06  92304.648438\n",
      "10   Bitcoin 2024-12-07  92360.000000\n",
      "11   Bitcoin 2024-12-08  92216.390625\n"
     ]
    }
   ],
   "source": [
    "from neuralforecast import NeuralForecast\n",
    "\n",
    "nf_auto = NeuralForecast(models=initial_model_list, freq='D') # Replace 'D' with your freq\n",
    "nf_auto.fit(df=train_df, val_size=horizon * 2) # Ensure val_size is adequate\n",
    "\n",
    "forecast = nf_auto.predict(df=train_df,futr_df=test_df.drop('y', axis=1))\n",
    "print(forecast)"
   ]
  }
 ],
 "metadata": {
  "kernelspec": {
   "display_name": "venv",
   "language": "python",
   "name": "python3"
  },
  "language_info": {
   "codemirror_mode": {
    "name": "ipython",
    "version": 3
   },
   "file_extension": ".py",
   "mimetype": "text/x-python",
   "name": "python",
   "nbconvert_exporter": "python",
   "pygments_lexer": "ipython3",
   "version": "3.10.17"
  }
 },
 "nbformat": 4,
 "nbformat_minor": 2
}
