{
 "cells": [
  {
   "cell_type": "code",
   "execution_count": 1,
   "metadata": {},
   "outputs": [
    {
     "name": "stdout",
     "output_type": "stream",
     "text": [
      "Loading and preparing data...\n",
      "\n",
      "Total data shape: (2922, 33)\n",
      "Train set shape: (2915, 33)\n",
      "Test set shape: (7, 33)\n",
      "  Train set covers: 2017-01-01 00:00:00 to 2024-12-24 00:00:00\n",
      "  Test set covers: 2024-12-25 00:00:00 to 2024-12-31 00:00:00\n"
     ]
    }
   ],
   "source": [
    "from ray import tune\n",
    "import matplotlib.pyplot as plt\n",
    "from src.dataset.data_preparation import prepare_data\n",
    "from config.base import HORIZON, TEST_LENGTH_MULTIPLIER\n",
    "\n",
    "# Get data\n",
    "train_df, test_df, hist_exog = prepare_data(horizon=HORIZON, test_length_multiplier=TEST_LENGTH_MULTIPLIER)"
   ]
  },
  {
   "cell_type": "code",
   "execution_count": 5,
   "metadata": {},
   "outputs": [
    {
     "name": "stderr",
     "output_type": "stream",
     "text": [
      "Seed set to 1\n",
      "GPU available: True (cuda), used: True\n",
      "TPU available: False, using: 0 TPU cores\n",
      "HPU available: False, using: 0 HPUs\n",
      "LOCAL_RANK: 0 - CUDA_VISIBLE_DEVICES: [0]\n",
      "\n",
      "  | Name         | Type          | Params | Mode \n",
      "-------------------------------------------------------\n",
      "0 | loss         | MAE           | 0      | train\n",
      "1 | padder_train | ConstantPad1d | 0      | train\n",
      "2 | scaler       | TemporalNorm  | 0      | train\n",
      "3 | blocks       | ModuleList    | 2.4 M  | train\n",
      "-------------------------------------------------------\n",
      "2.4 M     Trainable params\n",
      "0         Non-trainable params\n",
      "2.4 M     Total params\n",
      "9.640     Total estimated model params size (MB)\n",
      "34        Modules in train mode\n",
      "0         Modules in eval mode\n"
     ]
    },
    {
     "data": {
      "application/vnd.jupyter.widget-view+json": {
       "model_id": "e3d7f1ee2a4d4c64956f6dee49a1a8d4",
       "version_major": 2,
       "version_minor": 0
      },
      "text/plain": [
       "Sanity Checking: |          | 0/? [00:00<?, ?it/s]"
      ]
     },
     "metadata": {},
     "output_type": "display_data"
    },
    {
     "data": {
      "application/vnd.jupyter.widget-view+json": {
       "model_id": "980920949bac4a92bd375926fc50375a",
       "version_major": 2,
       "version_minor": 0
      },
      "text/plain": [
       "Training: |          | 0/? [00:00<?, ?it/s]"
      ]
     },
     "metadata": {},
     "output_type": "display_data"
    },
    {
     "data": {
      "application/vnd.jupyter.widget-view+json": {
       "model_id": "3a750eb368664d2f9c5b4679fac9c9ec",
       "version_major": 2,
       "version_minor": 0
      },
      "text/plain": [
       "Validation: |          | 0/? [00:00<?, ?it/s]"
      ]
     },
     "metadata": {},
     "output_type": "display_data"
    },
    {
     "name": "stderr",
     "output_type": "stream",
     "text": [
      "`Trainer.fit` stopped: `max_steps=100` reached.\n",
      "GPU available: True (cuda), used: True\n",
      "TPU available: False, using: 0 TPU cores\n",
      "HPU available: False, using: 0 HPUs\n",
      "LOCAL_RANK: 0 - CUDA_VISIBLE_DEVICES: [0]\n"
     ]
    },
    {
     "data": {
      "application/vnd.jupyter.widget-view+json": {
       "model_id": "6b8cf4219fbb434d9f3466c70db35cb4",
       "version_major": 2,
       "version_minor": 0
      },
      "text/plain": [
       "Predicting: |          | 0/? [00:00<?, ?it/s]"
      ]
     },
     "metadata": {},
     "output_type": "display_data"
    },
    {
     "name": "stdout",
     "output_type": "stream",
     "text": [
      "    unique_id         ds     cutoff          NHITS            y\n",
      "0     Bitcoin 2024-01-17 2024-01-16   43140.320312  42742.65234\n",
      "1     Bitcoin 2024-01-18 2024-01-16   43228.617188  41262.05859\n",
      "2     Bitcoin 2024-01-19 2024-01-16   43280.667969  41618.40625\n",
      "3     Bitcoin 2024-01-20 2024-01-16   43340.562500  41665.58594\n",
      "4     Bitcoin 2024-01-21 2024-01-16   43213.472656  41545.78516\n",
      "..        ...        ...        ...            ...          ...\n",
      "338   Bitcoin 2024-12-20 2024-12-17  106404.296875  97755.92969\n",
      "339   Bitcoin 2024-12-21 2024-12-17  106513.250000  97224.72656\n",
      "340   Bitcoin 2024-12-22 2024-12-17  106205.039062  95104.93750\n",
      "341   Bitcoin 2024-12-23 2024-12-17  106279.968750  94686.24219\n",
      "342   Bitcoin 2024-12-24 2024-12-17  105847.414062  98676.09375\n",
      "\n",
      "[343 rows x 5 columns]\n"
     ]
    }
   ],
   "source": [
    "from neuralforecast import NeuralForecast\n",
    "from neuralforecast.models import NHITS, LSTM\n",
    "from neuralforecast.utils import PredictionIntervals\n",
    "from config.base import CV_N_WINDOWS, CV_STEP_SIZE\n",
    "\n",
    "nf = NeuralForecast(\n",
    "    models=[\n",
    "        NHITS(\n",
    "            h=7,                   # Forecast horizon\n",
    "            input_size=2 * 7,      # Length of input sequence\n",
    "            max_steps=100,               # Number of steps to train\n",
    "            n_freq_downsample=[2, 1, 1],\n",
    "        ),\n",
    "        # LSTM(input_size=2 * 7,\n",
    "        #        h=7,                    # Forecast horizon\n",
    "        #        max_steps=500,                # Number of steps to train\n",
    "        #        scaler_type='standard',       # Type of scaler to normalize data\n",
    "        #        encoder_hidden_size=64,       # Defines the size of the hidden state of the LSTM\n",
    "        #        decoder_hidden_size=64,\n",
    "        # )\n",
    "    ],\n",
    "    freq='D')\n",
    "\n",
    "# nf.fit(\n",
    "#     train_df,\n",
    "#     val_size=7,\n",
    "#     prediction_intervals=PredictionIntervals(n_windows=2))\n",
    "\n",
    "# nf.predict(level=[90])\n",
    "\n",
    "cv_df = nf.cross_validation(\n",
    "    df=train_df,\n",
    "    n_windows=CV_N_WINDOWS,\n",
    "    step_size=7,\n",
    "    # prediction_intervals=PredictionIntervals(n_windows=2)\n",
    ")\n",
    "\n",
    "print(cv_df)"
   ]
  },
  {
   "cell_type": "code",
   "execution_count": 7,
   "metadata": {},
   "outputs": [],
   "source": [
    "# from statsforecast import StatsForecast\n",
    "# from statsforecast.models import AutoARIMA\n",
    "\n",
    "# sf = StatsForecast(models=[AutoARIMA(season_length=7)], freq='D', verbose=False) # Replace 'D' with your freq\n",
    "# df = sf.cross_validation(\n",
    "#     df=train_df[['unique_id', 'ds', 'y']],\n",
    "#     h=24,\n",
    "#     step_size=24,\n",
    "#     n_windows=2\n",
    "# ) # Ensure val_size is adequate\n"
   ]
  },
  {
   "cell_type": "code",
   "execution_count": 1,
   "metadata": {},
   "outputs": [],
   "source": [
    "import pandas as pd\n",
    "\n",
    "df = pd.read_parquet('data/processed/feature_selection_7_mc.parquet')\n",
    "# df1 = pd.read_parquet('data/raw/feature_selection_7.parquet')\n",
    "# df2 = pd.read_parquet('data/raw/feature_selection_14.parquet')\n",
    "# df3 = pd.read_parquet('data/raw/feature_selection_30.parquet')\n",
    "# df4 = pd.read_parquet('data/raw/feature_selection_60.parquet')\n",
    "# df5 = pd.read_parquet('data/raw/feature_selection_90.parquet')"
   ]
  },
  {
   "cell_type": "code",
   "execution_count": 3,
   "metadata": {},
   "outputs": [
    {
     "name": "stdout",
     "output_type": "stream",
     "text": [
      "  unique_id         ds         y  btc_close_ema_21_dist_norm  \\\n",
      "0   Bitcoin 2017-01-02  0.023193                    0.118906   \n",
      "1   Bitcoin 2017-01-03  0.021389                    0.125047   \n",
      "2   Bitcoin 2017-01-04  0.100960                    0.190063   \n",
      "3   Bitcoin 2017-01-05 -0.130575                    0.070082   \n",
      "4   Bitcoin 2017-01-06 -0.116209                   -0.040466   \n",
      "\n",
      "   estimated_transaction_volume_usd_blockchain  MVRV_cbbi  Confidence_cbbi  \\\n",
      "0                                 1.131921e+08     0.0030           0.0055   \n",
      "1                                 6.177315e+07     0.0109           0.0103   \n",
      "2                                 9.192380e+07     0.0253           0.0071   \n",
      "3                                 1.321019e+08    -0.0047           0.0107   \n",
      "4                                -1.141164e+08    -0.0074          -0.0091   \n",
      "\n",
      "   Fear Greed  bearish_sentiment  market_narrative_sentiment  ...  \\\n",
      "0        70.0               59.0                        20.0  ...   \n",
      "1        70.0               65.0                        16.2  ...   \n",
      "2        70.0               86.0                        31.2  ...   \n",
      "3        70.0              146.0                        31.0  ...   \n",
      "4        68.0              107.0                        27.4  ...   \n",
      "\n",
      "   risk_uncertainty_sentiment  btc_ema_5  btc_bb_width  btc_atr_14  \\\n",
      "0                        11.8  17.662008     36.873473    0.711099   \n",
      "1                         0.4  19.137994     37.921419   -0.211695   \n",
      "2                        18.6  49.722001     42.584220    6.453433   \n",
      "3                         4.0 -13.968658     40.929159   17.785539   \n",
      "4                        -9.6 -46.372111     38.533114    8.099650   \n",
      "\n",
      "   active_addresses_blockchain  miner_revenue_blockchain  RHODL_cbbi  \\\n",
      "0                       529709                168580.696      0.0011   \n",
      "1                       515024                106559.071      0.0085   \n",
      "2                       545609                 87246.943      0.0070   \n",
      "3                       495910               -322671.220      0.0224   \n",
      "4                       562750                -11442.824      0.0192   \n",
      "\n",
      "   ReserveRisk_cbbi  core_technology_sentiment  positive_sentiment  \n",
      "0            0.0025                     33.875                58.8  \n",
      "1            0.0102                      4.375               -12.8  \n",
      "2            0.0068                     31.000                89.4  \n",
      "3            0.0052                    -11.625               -17.8  \n",
      "4            0.0343                     -4.125               -45.8  \n",
      "\n",
      "[5 rows x 34 columns]\n"
     ]
    }
   ],
   "source": [
    "print(df.head())\n",
    "# print(len(df1.columns))\n",
    "# print(len(df2.columns))\n",
    "# print(len(df3.columns))\n",
    "# print(len(df4.columns))\n",
    "# print(len(df5.columns))\n",
    "\n",
    "# print(df.columns)\n",
    "# print(df1.columns)\n",
    "# print(df2.columns)\n",
    "# print(df3.columns)\n",
    "# print(df4.columns)\n",
    "# print(df5.columns)"
   ]
  },
  {
   "cell_type": "markdown",
   "metadata": {},
   "source": [
    "Raw feature list:\n",
    "Index(['unique_id', 'ds', 'y', 'btc_sma_5', 'btc_ema_5', 'btc_sma_14', 'btc_ema_14',\n",
    "       'btc_sma_21', 'btc_ema_21', 'btc_sma_50', 'btc_ema_50',\n",
    "       'btc_sma_14_50_diff', 'btc_ema_14_50_diff', 'btc_sma_14_50_ratio',\n",
    "       'btc_sma_14_slope', 'btc_ema_14_slope', 'btc_sma_21_slope',\n",
    "       'btc_ema_21_slope', 'btc_sma_50_slope', 'btc_ema_50_slope',\n",
    "       'btc_close_ema_21_dist', 'btc_close_ema_21_dist_norm', 'btc_rsi_14',\n",
    "       'btc_macd', 'btc_macd_signal', 'btc_macd_diff', 'btc_bb_high',\n",
    "       'btc_bb_low', 'btc_bb_mid', 'btc_bb_width', 'btc_atr_14',\n",
    "       'btc_volatility_index', 'btc_trading_volume',\n",
    "       'active_addresses_blockchain', 'hash_rate_blockchain',\n",
    "       'miner_revenue_blockchain', 'difficulty_blockchain',\n",
    "       'estimated_transaction_volume_usd_blockchain', 'PiCycle_cbbi',\n",
    "       'RUPL_cbbi', 'RHODL_cbbi', 'Puell_cbbi', '2YMA_cbbi', 'Trolololo_cbbi',\n",
    "       'MVRV_cbbi', 'ReserveRisk_cbbi', 'Woobull_cbbi', 'Confidence_cbbi',\n",
    "       'Fear Greed', 'positive_sentiment', 'negative_sentiment',\n",
    "       'bullish_sentiment', 'bearish_sentiment', 'risk_uncertainty_sentiment',\n",
    "       'problem_malicious_sentiment', 'active_trading_sentiment',\n",
    "       'long_term_investment_sentiment', 'market_narrative_sentiment',\n",
    "       'core_technology_sentiment', 'development_ecosystem_sentiment',\n",
    "       'news_events_sentiment', 'regulations_sentiment',\n",
    "       'community_social_sentiment', 'price_sentiment', 'volume_sentiment',\n",
    "       'marketcap_sentiment', 'Gold_Price', 'Gold_Share', 'Gold_Volatility',\n",
    "       'Oil_Crude_Price', 'Oil_Brent_Price', 'Oil_Volatility', 'DJI', 'GSPC',\n",
    "       'IXIC', 'NYFANG', 'CBOE_Volatility', 'EM_ETF', 'DXY', 'EURUSD'],\n",
    "      dtype='object')\n",
    "\n",
    "Reduce feature list for 7 days horizon:\n",
    "Index(['unique_id', 'ds', 'y', 'Oil_Volatility', 'marketcap_sentiment',\n",
    "       'EM_ETF', 'btc_volatility_index', 'btc_sma_50_slope', 'btc_bb_width',\n",
    "       'Gold_Volatility', 'Fear Greed', 'bearish_sentiment', 'RHODL_cbbi',\n",
    "       'btc_macd_diff', 'btc_close_ema_21_dist_norm',\n",
    "       'active_addresses_blockchain', 'btc_trading_volume',\n",
    "       'core_technology_sentiment', 'bullish_sentiment', 'volume_sentiment',\n",
    "       'btc_sma_21_slope', 'market_narrative_sentiment',\n",
    "       'hash_rate_blockchain'],\n",
    "      dtype='object')\n",
    "\n",
    "Reduce feature list for 14 days horizon:\n",
    "Index(['unique_id', 'ds', 'y', 'EM_ETF', 'btc_close_ema_21_dist_norm',\n",
    "       'RHODL_cbbi', 'Gold_Volatility', 'PiCycle_cbbi', 'btc_macd_diff',\n",
    "       'estimated_transaction_volume_usd_blockchain', 'CBOE_Volatility',\n",
    "       'btc_sma_14_50_ratio', 'Fear Greed', 'marketcap_sentiment',\n",
    "       'market_narrative_sentiment', 'btc_bb_width', 'volume_sentiment',\n",
    "       'regulations_sentiment', 'EURUSD', 'problem_malicious_sentiment',\n",
    "       'active_addresses_blockchain', 'btc_trading_volume', 'btc_sma_14_slope',\n",
    "       'hash_rate_blockchain'],\n",
    "      dtype='object')\n",
    "\n",
    "Reduce feature list for 30 days horizon:\n",
    "Index(['unique_id', 'ds', 'y', 'btc_sma_50_slope', 'EM_ETF', 'Fear Greed',\n",
    "       'Gold_Volatility', 'btc_sma_21_slope', 'btc_rsi_14',\n",
    "       'miner_revenue_blockchain', 'btc_macd_diff',\n",
    "       'market_narrative_sentiment', 'CBOE_Volatility', 'marketcap_sentiment',\n",
    "       'problem_malicious_sentiment', 'volume_sentiment', 'RHODL_cbbi',\n",
    "       'bullish_sentiment', 'bearish_sentiment', 'btc_trading_volume'],\n",
    "      dtype='object')\n",
    "\n",
    "Reduce feature list for 60 days horizon:\n",
    "Index(['unique_id', 'ds', 'y', 'EM_ETF', 'miner_revenue_blockchain',\n",
    "       'Gold_Volatility', 'btc_sma_21_slope', 'Oil_Brent_Price', 'btc_rsi_14',\n",
    "       'market_narrative_sentiment', 'btc_sma_14_50_ratio',\n",
    "       'bearish_sentiment', 'btc_sma_50_slope', 'btc_bb_width',\n",
    "       'bullish_sentiment', 'btc_volatility_index', 'btc_trading_volume',\n",
    "       'DXY', 'active_addresses_blockchain', 'PiCycle_cbbi'],\n",
    "      dtype='object')\n",
    "\n",
    "Reduce feature list for 90 days horizon:\n",
    "Index(['unique_id', 'ds', 'y', 'Fear Greed', 'btc_sma_50_slope',\n",
    "       'Gold_Volatility', 'EURUSD', 'bearish_sentiment', 'EM_ETF',\n",
    "       'estimated_transaction_volume_usd_blockchain'],\n",
    "      dtype='object')"
   ]
  },
  {
   "cell_type": "code",
   "execution_count": 3,
   "metadata": {},
   "outputs": [
    {
     "name": "stdout",
     "output_type": "stream",
     "text": [
      "\n",
      "📊 STEP 1: DATA PREPARATION\n",
      "----------------------------------------\n",
      "Loading and preparing data...\n",
      "\n",
      "Total data shape: (2922, 23)\n",
      "Train set shape: (2915, 23)\n",
      "Test set shape: (7, 23)\n",
      "  Train set covers: 2017-01-01 00:00:00 to 2024-12-24 00:00:00\n",
      "  Test set covers: 2024-12-25 00:00:00 to 2024-12-31 00:00:00\n",
      "✅ Data prepared successfully\n",
      "   • Training samples: 2,915\n",
      "   • Test samples: 7\n",
      "   • Features: 20 exogenous variables\n",
      "   • Forecast horizon: 7 days\n"
     ]
    }
   ],
   "source": [
    "from IPython.display import display\n",
    "import pandas as pd\n",
    "from src.dataset.data_preparation import prepare_pipeline_data\n",
    "\n",
    "train_df, test_df, hist_exog_list, data_info = prepare_pipeline_data()\n",
    "\n",
    "cv_df = pd.read_csv('results/results_7d/cv/cv_df_stat.csv')"
   ]
  },
  {
   "cell_type": "code",
   "execution_count": 4,
   "metadata": {},
   "outputs": [],
   "source": [
    "import pandas as pd\n",
    "\n",
    "from utilsforecast.evaluation import evaluate\n",
    "from utilsforecast.losses import mse, mae, rmse"
   ]
  },
  {
   "cell_type": "code",
   "execution_count": 17,
   "metadata": {},
   "outputs": [],
   "source": [
    "cv_df = pd.read_csv('results/results_90d/cv/cv_df.csv')"
   ]
  },
  {
   "cell_type": "code",
   "execution_count": 18,
   "metadata": {},
   "outputs": [
    {
     "data": {
      "text/html": [
       "<div>\n",
       "<style scoped>\n",
       "    .dataframe tbody tr th:only-of-type {\n",
       "        vertical-align: middle;\n",
       "    }\n",
       "\n",
       "    .dataframe tbody tr th {\n",
       "        vertical-align: top;\n",
       "    }\n",
       "\n",
       "    .dataframe thead th {\n",
       "        text-align: right;\n",
       "    }\n",
       "</style>\n",
       "<table border=\"1\" class=\"dataframe\">\n",
       "  <thead>\n",
       "    <tr style=\"text-align: right;\">\n",
       "      <th></th>\n",
       "      <th>unique_id</th>\n",
       "      <th>metric</th>\n",
       "      <th>AutoARIMA</th>\n",
       "      <th>AutoETS</th>\n",
       "      <th>AutoTheta</th>\n",
       "      <th>AutoNBEATSx</th>\n",
       "      <th>AutoTSMixerx</th>\n",
       "      <th>AutoiTransformer</th>\n",
       "      <th>AutoBiTCN</th>\n",
       "      <th>best_model</th>\n",
       "    </tr>\n",
       "  </thead>\n",
       "  <tbody>\n",
       "    <tr>\n",
       "      <th>0</th>\n",
       "      <td>Bitcoin</td>\n",
       "      <td>mse</td>\n",
       "      <td>3.372420e+07</td>\n",
       "      <td>7.017407e+07</td>\n",
       "      <td>6.857659e+07</td>\n",
       "      <td>1.976835e+08</td>\n",
       "      <td>1.869030e+08</td>\n",
       "      <td>1.546604e+08</td>\n",
       "      <td>1.608845e+08</td>\n",
       "      <td>AutoARIMA</td>\n",
       "    </tr>\n",
       "    <tr>\n",
       "      <th>1</th>\n",
       "      <td>Bitcoin</td>\n",
       "      <td>mae</td>\n",
       "      <td>4.229540e+03</td>\n",
       "      <td>5.731123e+03</td>\n",
       "      <td>5.726520e+03</td>\n",
       "      <td>9.319290e+03</td>\n",
       "      <td>9.013437e+03</td>\n",
       "      <td>8.959529e+03</td>\n",
       "      <td>1.057866e+04</td>\n",
       "      <td>AutoARIMA</td>\n",
       "    </tr>\n",
       "    <tr>\n",
       "      <th>2</th>\n",
       "      <td>Bitcoin</td>\n",
       "      <td>rmse</td>\n",
       "      <td>5.807254e+03</td>\n",
       "      <td>8.376996e+03</td>\n",
       "      <td>8.281098e+03</td>\n",
       "      <td>1.406000e+04</td>\n",
       "      <td>1.367125e+04</td>\n",
       "      <td>1.243625e+04</td>\n",
       "      <td>1.268402e+04</td>\n",
       "      <td>AutoARIMA</td>\n",
       "    </tr>\n",
       "  </tbody>\n",
       "</table>\n",
       "</div>"
      ],
      "text/plain": [
       "  unique_id metric     AutoARIMA       AutoETS     AutoTheta   AutoNBEATSx  \\\n",
       "0   Bitcoin    mse  3.372420e+07  7.017407e+07  6.857659e+07  1.976835e+08   \n",
       "1   Bitcoin    mae  4.229540e+03  5.731123e+03  5.726520e+03  9.319290e+03   \n",
       "2   Bitcoin   rmse  5.807254e+03  8.376996e+03  8.281098e+03  1.406000e+04   \n",
       "\n",
       "   AutoTSMixerx  AutoiTransformer     AutoBiTCN best_model  \n",
       "0  1.869030e+08      1.546604e+08  1.608845e+08  AutoARIMA  \n",
       "1  9.013437e+03      8.959529e+03  1.057866e+04  AutoARIMA  \n",
       "2  1.367125e+04      1.243625e+04  1.268402e+04  AutoARIMA  "
      ]
     },
     "execution_count": 18,
     "metadata": {},
     "output_type": "execute_result"
    }
   ],
   "source": [
    "evaluation_df = evaluate(cv_df.drop(columns='cutoff'), metrics=[mse, mae, rmse])\n",
    "evaluation_df['best_model'] = evaluation_df.drop(columns=['metric', 'unique_id']).idxmin(axis=1)\n",
    "evaluation_df.head()"
   ]
  },
  {
   "cell_type": "code",
   "execution_count": 19,
   "metadata": {},
   "outputs": [
    {
     "data": {
      "text/html": [
       "<div>\n",
       "<style scoped>\n",
       "    .dataframe tbody tr th:only-of-type {\n",
       "        vertical-align: middle;\n",
       "    }\n",
       "\n",
       "    .dataframe tbody tr th {\n",
       "        vertical-align: top;\n",
       "    }\n",
       "\n",
       "    .dataframe thead th {\n",
       "        text-align: right;\n",
       "    }\n",
       "</style>\n",
       "<table border=\"1\" class=\"dataframe\">\n",
       "  <thead>\n",
       "    <tr style=\"text-align: right;\">\n",
       "      <th></th>\n",
       "      <th>metric</th>\n",
       "      <th>model</th>\n",
       "      <th>nr. of unique_ids</th>\n",
       "    </tr>\n",
       "  </thead>\n",
       "  <tbody>\n",
       "    <tr>\n",
       "      <th>0</th>\n",
       "      <td>mae</td>\n",
       "      <td>AutoARIMA</td>\n",
       "      <td>1</td>\n",
       "    </tr>\n",
       "    <tr>\n",
       "      <th>1</th>\n",
       "      <td>mse</td>\n",
       "      <td>AutoARIMA</td>\n",
       "      <td>1</td>\n",
       "    </tr>\n",
       "    <tr>\n",
       "      <th>2</th>\n",
       "      <td>rmse</td>\n",
       "      <td>AutoARIMA</td>\n",
       "      <td>1</td>\n",
       "    </tr>\n",
       "  </tbody>\n",
       "</table>\n",
       "</div>"
      ],
      "text/plain": [
       "  metric      model  nr. of unique_ids\n",
       "0    mae  AutoARIMA                  1\n",
       "1    mse  AutoARIMA                  1\n",
       "2   rmse  AutoARIMA                  1"
      ]
     },
     "execution_count": 19,
     "metadata": {},
     "output_type": "execute_result"
    }
   ],
   "source": [
    "summary_df = evaluation_df.groupby(['metric', 'best_model']).size().sort_values().to_frame()\n",
    "summary_df = summary_df.reset_index()\n",
    "summary_df.columns = ['metric', 'model', 'nr. of unique_ids']\n",
    "summary_df"
   ]
  },
  {
   "cell_type": "code",
   "execution_count": null,
   "metadata": {},
   "outputs": [],
   "source": []
  }
 ],
 "metadata": {
  "kernelspec": {
   "display_name": "venv",
   "language": "python",
   "name": "python3"
  },
  "language_info": {
   "codemirror_mode": {
    "name": "ipython",
    "version": 3
   },
   "file_extension": ".py",
   "mimetype": "text/x-python",
   "name": "python",
   "nbconvert_exporter": "python",
   "pygments_lexer": "ipython3",
   "version": "3.10.17"
  }
 },
 "nbformat": 4,
 "nbformat_minor": 2
}
